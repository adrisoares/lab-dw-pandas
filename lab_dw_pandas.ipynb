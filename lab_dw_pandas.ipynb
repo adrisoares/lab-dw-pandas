{
  "cells": [
    {
      "cell_type": "markdown",
      "id": "25d7736c-ba17-4aff-b6bb-66eba20fbf4e",
      "metadata": {
        "id": "25d7736c-ba17-4aff-b6bb-66eba20fbf4e"
      },
      "source": [
        "# Lab | Pandas"
      ]
    },
    {
      "cell_type": "markdown",
      "id": "d1973e9e-8be6-4039-b70e-d73ee0d94c99",
      "metadata": {
        "id": "d1973e9e-8be6-4039-b70e-d73ee0d94c99"
      },
      "source": [
        "In this lab, we will be working with the customer data from an insurance company, which can be found in the CSV file located at the following link: https://raw.githubusercontent.com/data-bootcamp-v4/data/main/file1.csv\n",
        "\n",
        "The data includes information such as customer ID, state, gender, education, income, and other variables that can be used to perform various analyses.\n",
        "\n",
        "Throughout the lab, we will be using the pandas library in Python to manipulate and analyze the data. Pandas is a powerful library that provides various data manipulation and analysis tools, including the ability to load and manipulate data from a variety of sources, including CSV files."
      ]
    },
    {
      "cell_type": "markdown",
      "id": "8045146f-f4f7-44d9-8cd9-130d6400c73a",
      "metadata": {
        "id": "8045146f-f4f7-44d9-8cd9-130d6400c73a"
      },
      "source": [
        "### Data Description\n",
        "\n",
        "- Customer - Customer ID\n",
        "\n",
        "- ST - State where customers live\n",
        "\n",
        "- Gender - Gender of the customer\n",
        "\n",
        "- Education - Background education of customers\n",
        "\n",
        "- Customer Lifetime Value - Customer lifetime value(CLV) is the total revenue the client will derive from their entire relationship with a customer. In other words, is the predicted or calculated value of a customer over their entire duration as a policyholder with the insurance company. It is an estimation of the net profit that the insurance company expects to generate from a customer throughout their relationship with the company. Customer Lifetime Value takes into account factors such as the duration of the customer's policy, premium payments, claim history, renewal likelihood, and potential additional services or products the customer may purchase. It helps insurers assess the long-term profitability and value associated with retaining a particular customer.\n",
        "\n",
        "- Income - Customers income\n",
        "\n",
        "- Monthly Premium Auto - Amount of money the customer pays on a monthly basis as a premium for their auto insurance coverage. It represents the recurring cost that the insured person must pay to maintain their insurance policy and receive coverage for potential damages, accidents, or other covered events related to their vehicle.\n",
        "\n",
        "- Number of Open Complaints - Number of complaints the customer opened\n",
        "\n",
        "- Policy Type - There are three type of policies in car insurance (Corporate Auto, Personal Auto, and Special Auto)\n",
        "\n",
        "- Vehicle Class - Type of vehicle classes that customers have Two-Door Car, Four-Door Car SUV, Luxury SUV, Sports Car, and Luxury Car\n",
        "\n",
        "- Total Claim Amount - the sum of all claims made by the customer. It represents the total monetary value of all approved claims for incidents such as accidents, theft, vandalism, or other covered events.\n"
      ]
    },
    {
      "cell_type": "markdown",
      "id": "3a72419b-20fc-4905-817a-8c83abc59de6",
      "metadata": {
        "id": "3a72419b-20fc-4905-817a-8c83abc59de6"
      },
      "source": [
        "External Resources: https://towardsdatascience.com/filtering-data-frames-in-pandas-b570b1f834b9"
      ]
    },
    {
      "cell_type": "markdown",
      "id": "8f8ece17-e919-4e23-96c0-c7c59778436a",
      "metadata": {
        "id": "8f8ece17-e919-4e23-96c0-c7c59778436a"
      },
      "source": [
        "## Challenge 1: Understanding the data\n",
        "\n",
        "In this challenge, you will use pandas to explore a given dataset. Your task is to gain a deep understanding of the data by analyzing its characteristics, dimensions, and statistical properties."
      ]
    },
    {
      "cell_type": "markdown",
      "id": "91437bd5-59a6-49c0-8150-ef0e6e6eb253",
      "metadata": {
        "id": "91437bd5-59a6-49c0-8150-ef0e6e6eb253"
      },
      "source": [
        "- Identify the dimensions of the dataset by determining the number of rows and columns it contains.\n",
        "- Determine the data types of each column and evaluate whether they are appropriate for the nature of the variable. You should also provide suggestions for fixing any incorrect data types.\n",
        "- Identify the number of unique values for each column and determine which columns appear to be categorical. You should also describe the unique values of each categorical column and the range of values for numerical columns, and give your insights.\n",
        "- Compute summary statistics such as mean, median, mode, standard deviation, and quartiles to understand the central tendency and distribution of the data for numerical columns. You should also provide your conclusions based on these summary statistics.\n",
        "- Compute summary statistics for categorical columns and providing your conclusions based on these statistics."
      ]
    },
    {
      "cell_type": "code",
      "execution_count": null,
      "id": "dd4e8cd8-a6f6-486c-a5c4-1745b0c035f4",
      "metadata": {
        "id": "dd4e8cd8-a6f6-486c-a5c4-1745b0c035f4"
      },
      "outputs": [],
      "source": [
        "# 1.\n",
        "import pandas as pd\n",
        "\n",
        "url = 'https://raw.githubusercontent.com/data-bootcamp-v4/data/main/file1.csv'\n",
        "df = pd.read_csv(url)\n",
        "df.head()"
      ]
    },
    {
      "cell_type": "code",
      "source": [
        "# 1a. Dimensions of the dataset (rows and column wise)\n",
        "print(\"Number of rows is:\",{df.shape[0]})\n",
        "print(\"Number of columns is:\",{df.shape[1]})"
      ],
      "metadata": {
        "id": "5iAFRkQrgup2",
        "colab": {
          "base_uri": "https://localhost:8080/"
        },
        "outputId": "34d478c1-a28e-44b3-e9b5-e44a35273f6d"
      },
      "id": "5iAFRkQrgup2",
      "execution_count": 211,
      "outputs": [
        {
          "output_type": "stream",
          "name": "stdout",
          "text": [
            "Number of rows is: {4008}\n",
            "Number of columns is: {11}\n"
          ]
        }
      ]
    },
    {
      "cell_type": "code",
      "source": [
        "# 1b.\n",
        "data_types = df.dtypes\n",
        "\n",
        "print(\"Data types:\")\n",
        "print(data_types)\n",
        "\n",
        "#\"Customer Lifetime Value\" and \"Number of Open Complaints\" should be float-64"
      ],
      "metadata": {
        "id": "JCc71dHvk3LS"
      },
      "id": "JCc71dHvk3LS",
      "execution_count": null,
      "outputs": []
    },
    {
      "cell_type": "code",
      "source": [
        "print(df.columns)"
      ],
      "metadata": {
        "id": "Ig2OYGf5uiWS"
      },
      "id": "Ig2OYGf5uiWS",
      "execution_count": null,
      "outputs": []
    },
    {
      "cell_type": "code",
      "source": [
        "# 1c. Identify the number of unique values for each column and determine which columns appear to be categorical.\n",
        "for column in df.columns:\n",
        "    unique_values = df[column].unique()\n",
        "    print(f\"{column}:\", f\"({len(unique_values)} unique values).\" )"
      ],
      "metadata": {
        "id": "erDMm9gCxos-"
      },
      "id": "erDMm9gCxos-",
      "execution_count": null,
      "outputs": []
    },
    {
      "cell_type": "code",
      "source": [
        "# 1c. Categorical columns have a small number of unique values when comparing to the total number of rows in the dataset.\n",
        "# So I would go for something like this, like defining a 'roof' for categorical.\n",
        "for column in df.columns:\n",
        "    unique_values = df[column].unique()\n",
        "    if len(unique_values) <= 10:\n",
        "      print(f\"\\n ->{column}:\", f\"({len(unique_values)} uniq. values, consider CATEGORICAL).\")\n",
        "    else:\n",
        "      print(f\"\\n ->{column}:\", f\"({len(unique_values)} uniq. values, consider NUMERICAL).\")\n",
        "\n",
        "# still, customer works like ID, so I believe it should be considered a categorical column"
      ],
      "metadata": {
        "id": "rhfUxPaxzF65"
      },
      "id": "rhfUxPaxzF65",
      "execution_count": null,
      "outputs": []
    },
    {
      "cell_type": "code",
      "source": [
        "# 1c. You should also describe the unique values of each categorical column and give your insights\n",
        "for column in df.columns:\n",
        "    unique_values = df[column].unique()\n",
        "    if len(unique_values) <= 10:\n",
        "      print(\"\\n ->\", df[column].unique())\n",
        "\n",
        "# Some 'NaN's here to clean!(Sad trombone)"
      ],
      "metadata": {
        "id": "OE0q_sA844vV"
      },
      "id": "OE0q_sA844vV",
      "execution_count": null,
      "outputs": []
    },
    {
      "cell_type": "code",
      "source": [
        "# 1c. You should also describe the range of values for numerical columns\n",
        "for column in df.columns:\n",
        "    numeric_columns = df.select_dtypes(include='number')\n",
        "print(\"These are the numeric columns:\",numeric_columns)"
      ],
      "metadata": {
        "id": "bavUYyoV9Fq5"
      },
      "id": "bavUYyoV9Fq5",
      "execution_count": null,
      "outputs": []
    },
    {
      "cell_type": "code",
      "source": [
        "# 1c.\n",
        "#print(df[\"Income\"].describe())\n",
        "range_income = df[\"Income\"].max() - df[\"Income\"].min()\n",
        "print(\"Range Income is\", round(range_income))"
      ],
      "metadata": {
        "colab": {
          "base_uri": "https://localhost:8080/"
        },
        "id": "1ro1z16YHLcJ",
        "outputId": "99d1eaef-d5ce-4e94-b901-a2bd890e85f8"
      },
      "id": "1ro1z16YHLcJ",
      "execution_count": 165,
      "outputs": [
        {
          "output_type": "stream",
          "name": "stdout",
          "text": [
            "Range Income is 99960\n"
          ]
        }
      ]
    },
    {
      "cell_type": "code",
      "source": [
        "# 1c.\n",
        "#print(df[\"Monthly Premium Auto\"].describe())\n",
        "range_mpa = df[\"Monthly Premium Auto\"].max() - df[\"Monthly Premium Auto\"].min()\n",
        "print(\"Range Monthly Premium Auto\", round(range_mpa))"
      ],
      "metadata": {
        "id": "kneHXlRhNGkv"
      },
      "id": "kneHXlRhNGkv",
      "execution_count": null,
      "outputs": []
    },
    {
      "cell_type": "code",
      "source": [
        "# 1c.\n",
        "#print(df[\"Total Claim Amount\"].describe())\n",
        "range_tca = df[\"Total Claim Amount\"].max() - df[\"Total Claim Amount\"].min()\n",
        "print(\"Range Total Claim Amount\", round(range_tca))"
      ],
      "metadata": {
        "id": "6dJWkPMwNhwb"
      },
      "id": "6dJWkPMwNhwb",
      "execution_count": null,
      "outputs": []
    },
    {
      "cell_type": "code",
      "source": [
        "# Compute summary statistics such as mean, median, mode, standard deviation, and quartiles to understand the central tendency and distribution of the data for numerical columns.\n",
        "# You should also provide your conclusions based on these summary statistics."
      ],
      "metadata": {
        "id": "4_r2J94oO9Pq"
      },
      "id": "4_r2J94oO9Pq",
      "execution_count": null,
      "outputs": []
    },
    {
      "cell_type": "code",
      "source": [
        "# 1d. Mean, standard deviation, and quartiles to understand the central tendency and distribution of the data for numerical columns.\n",
        "# The std measures the how spread the data is. A larger standard deviation indicates that the data points are more spread out from the mean.\n",
        "\n",
        "print(df[\"Income\"].describe())\n",
        "print(\"Mean is\", (df[\"Income\"].mean()))\n",
        "print(\"Standard deviation is\", (df[\"Income\"].std()))\n",
        "print(\"25% quartile is\", (df[\"Income\"].quantile(0.25)))\n",
        "print(\"50% quartile is\", (df[\"Income\"].quantile(0.50)))\n",
        "print(\"75% quartile is\", (df[\"Income\"].quantile(0.75)))\n",
        "\n",
        "##Median### and ##mode## (import statistics as stats?)"
      ],
      "metadata": {
        "id": "mVyamCJRO9Fu"
      },
      "id": "mVyamCJRO9Fu",
      "execution_count": null,
      "outputs": []
    },
    {
      "cell_type": "code",
      "source": [
        "# 1d. Mean, standard deviation, and quartiles to understand the central tendency and distribution of the data for numerical columns.\n",
        "# he std measures the how spread the data is. A larger standard deviation indicates that the data points are more spread out from the mean.\n",
        "\n",
        "print(df[\"Monthly Premium Auto\"].describe())\n",
        "print(\"Mean is\", (df[\"Monthly Premium Auto\"].mean()))\n",
        "print(\"Standard deviation is\", (df[\"Monthly Premium Auto\"].std()))\n",
        "print(\"25% quartile is\", (df[\"Monthly Premium Auto\"].quantile(0.25)))\n",
        "print(\"50% quartile is\", (df[\"Monthly Premium Auto\"].quantile(0.50)))\n",
        "print(\"75% quartile is\", (df[\"Monthly Premium Auto\"].quantile(0.75)))\n",
        "\n",
        "##Median### and ##mode## (import statistics as stats?)"
      ],
      "metadata": {
        "id": "c6Qr9njiQK8v"
      },
      "id": "c6Qr9njiQK8v",
      "execution_count": null,
      "outputs": []
    },
    {
      "cell_type": "code",
      "source": [
        "# 1d. Mean, standard deviation, and quartiles to understand the central tendency and distribution of the data for numerical columns.\n",
        "# The std measures the how spread the data is. A larger standard deviation indicates that the data points are more spread out from the mean.\n",
        "\n",
        "print(df[\"Total Claim Amount\"].describe())\n",
        "print(\"Mean is\", (df[\"Total Claim Amount\"].mean()))\n",
        "print(\"Standard deviation is\", (df[\"Total Claim Amount\"].std()))\n",
        "print(\"25% quartile is\", (df[\"Total Claim Amount\"].quantile(0.25)))\n",
        "print(\"50% quartile is\", (df[\"Total Claim Amount\"].quantile(0.50)))\n",
        "print(\"75% quartile is\", (df[\"Total Claim Amount\"].quantile(0.75)))\n",
        "\n",
        "##Median### and ##mode## (import statistics as stats?)"
      ],
      "metadata": {
        "id": "wJq9aCF_QK6B"
      },
      "id": "wJq9aCF_QK6B",
      "execution_count": null,
      "outputs": []
    },
    {
      "cell_type": "code",
      "source": [
        "# Compute summary statistics for categorical columns and providing your conclusions based on these statistics\n",
        "object_columns = df.select_dtypes(include='object')\n",
        "object_columns"
      ],
      "metadata": {
        "id": "avomcVW-QK3k"
      },
      "id": "avomcVW-QK3k",
      "execution_count": null,
      "outputs": []
    },
    {
      "cell_type": "code",
      "source": [
        "df[\"ST\"].describe()\n",
        "# count stands for numb os states input\n",
        "# 8 !=\n",
        "# most freq Oregon, with 320 x"
      ],
      "metadata": {
        "id": "aMNnc8cQQK1p"
      },
      "id": "aMNnc8cQQK1p",
      "execution_count": null,
      "outputs": []
    },
    {
      "cell_type": "code",
      "source": [
        "df[\"GENDER\"].describe()\n",
        "# count stands for numb of genders that were input (hope it's == to the number of clients) ----- Number of rows is: {4008} OMG\n",
        "# 5 diferent categories for gender (typos, probably)\n",
        "# top female, with 457 (are women that \"more cautious?\")"
      ],
      "metadata": {
        "id": "h5JC8exAQKzM"
      },
      "id": "h5JC8exAQKzM",
      "execution_count": null,
      "outputs": []
    },
    {
      "cell_type": "code",
      "source": [
        "df[\"Education\"].describe()\n",
        "# count stands for numb of education inputs ----- Number of rows is: {4008} OMG\n",
        "# 6 diferent categories for education\n",
        "# top Bachelor, with 324"
      ],
      "metadata": {
        "id": "hfoVyrrgQKws"
      },
      "id": "hfoVyrrgQKws",
      "execution_count": null,
      "outputs": []
    },
    {
      "cell_type": "code",
      "source": [
        "df[\"Vehicle Class\"].describe()\n",
        "# count stands for numb of class inputs ----- Number of rows is: {4008} OMG, and by now I bet 1071 is the perfect row number\n",
        "# 6 diferent categories Vehicle Class\n",
        "# top four door, with 576"
      ],
      "metadata": {
        "id": "tlAa5QOYQKuk"
      },
      "id": "tlAa5QOYQKuk",
      "execution_count": null,
      "outputs": []
    },
    {
      "cell_type": "code",
      "source": [
        "df[\"Policy Type\"].describe()\n",
        "# count stands for numb of class inputs ----- Number of rows is: {4008} ... Yes, lets's \"kill\" 3000 clients\n",
        "# 3 diferent policy types\n",
        "# most frequent is \"personal auto\" with 780 --- probably the cheapest :D"
      ],
      "metadata": {
        "id": "_NC1yvCfVrx9"
      },
      "id": "_NC1yvCfVrx9",
      "execution_count": null,
      "outputs": []
    },
    {
      "cell_type": "markdown",
      "id": "4a703890-63db-4944-b7ab-95a4f8185120",
      "metadata": {
        "id": "4a703890-63db-4944-b7ab-95a4f8185120"
      },
      "source": [
        "## Challenge 2: analyzing the data"
      ]
    },
    {
      "cell_type": "markdown",
      "id": "0776a403-c56a-452f-ac33-5fd4fdb06fc7",
      "metadata": {
        "id": "0776a403-c56a-452f-ac33-5fd4fdb06fc7"
      },
      "source": [
        "### Exercise 1"
      ]
    },
    {
      "cell_type": "markdown",
      "id": "eedbc484-da4d-4f9c-9343-e1d44311a87e",
      "metadata": {
        "id": "eedbc484-da4d-4f9c-9343-e1d44311a87e"
      },
      "source": [
        "The marketing team wants to know the top 5 less common customer locations. Create a pandas Series object that contains the customer locations and their frequencies, and then retrieve the top 5 less common locations in ascending order."
      ]
    },
    {
      "cell_type": "code",
      "source": [
        "loc_counts = df[\"ST\"].value_counts()  # Houston, .... AZ == Arizona and Washington== WA, so actually Nevada is the ONE\n",
        "loc_counts"
      ],
      "metadata": {
        "id": "xeLmaRWVbOVL"
      },
      "id": "xeLmaRWVbOVL",
      "execution_count": null,
      "outputs": []
    },
    {
      "cell_type": "code",
      "source": [
        "loc_counts = df[\"ST\"].value_counts(ascending=True)\n",
        "loc_counts.tail(5)"
      ],
      "metadata": {
        "id": "8_rUq0sdbOSI"
      },
      "id": "8_rUq0sdbOSI",
      "execution_count": null,
      "outputs": []
    },
    {
      "cell_type": "markdown",
      "id": "0ce80f43-4afa-43c7-a78a-c917444da4e0",
      "metadata": {
        "id": "0ce80f43-4afa-43c7-a78a-c917444da4e0"
      },
      "source": [
        "### Exercise 2\n",
        "\n",
        "The sales team wants to know the total number of policies sold for each type of policy. Create a pandas Series object that contains the policy types and their total number of policies sold, and then retrieve the policy type with the highest number of policies sold."
      ]
    },
    {
      "cell_type": "markdown",
      "id": "a9f13997-1555-4f98-aca6-970fda1d2c3f",
      "metadata": {
        "id": "a9f13997-1555-4f98-aca6-970fda1d2c3f"
      },
      "source": [
        "*Hint:*\n",
        "- *Using value_counts() method simplifies this analysis.*\n",
        "- *Futhermore, there is a method that returns the index of the maximum value in a column or row.*\n"
      ]
    },
    {
      "cell_type": "code",
      "source": [
        "print(df[\"Policy Type\"].nunique(), \"Policy Types\") ### confirm number os policy types\n",
        "print(df[\"Policy Type\"].value_counts())\n",
        "print(\"Most purchased is\", df[\"Policy Type\"].value_counts().idxmax(), \"with 780 contracts\")"
      ],
      "metadata": {
        "id": "kfOVp8mtg2se"
      },
      "id": "kfOVp8mtg2se",
      "execution_count": null,
      "outputs": []
    },
    {
      "cell_type": "markdown",
      "id": "0b863fd3-bf91-4d5d-86eb-be29ed9f5b70",
      "metadata": {
        "id": "0b863fd3-bf91-4d5d-86eb-be29ed9f5b70"
      },
      "source": [
        "### Exercise 3\n",
        "\n",
        "The sales team wants to know if customers with Personal Auto have a lower income than those with Corporate Auto. How does the average income compare between the two policy types?"
      ]
    },
    {
      "cell_type": "markdown",
      "id": "b1386d75-2810-4aa1-93e0-9485aa12d552",
      "metadata": {
        "id": "b1386d75-2810-4aa1-93e0-9485aa12d552"
      },
      "source": [
        "- Use *loc* to create two dataframes: one containing only Personal Auto policies and one containing only Corporate Auto policies.\n",
        "- Calculate the average income for each policy.\n",
        "- Print the results."
      ]
    },
    {
      "cell_type": "code",
      "source": [
        "# sorry for not using loc. Hope some of this is actually NOT THAT wrong!"
      ],
      "metadata": {
        "id": "MIcziqdltvJa"
      },
      "id": "MIcziqdltvJa",
      "execution_count": 366,
      "outputs": []
    },
    {
      "cell_type": "code",
      "source": [
        "df.head(3)"
      ],
      "metadata": {
        "id": "cklpiM0ClSbD"
      },
      "id": "cklpiM0ClSbD",
      "execution_count": null,
      "outputs": []
    },
    {
      "cell_type": "code",
      "source": [
        "#df[df[\"Policy Type\"] == \"Personal Auto\"][\"Income\"]\n",
        "pers_auto = df[df[\"Policy Type\"] == \"Personal Auto\"][\"Income\"]\n",
        "print(\"Average income for 'Personal Auto' is:\", round(pers_auto.describe().mean(), 2))"
      ],
      "metadata": {
        "colab": {
          "base_uri": "https://localhost:8080/"
        },
        "id": "GQVXJjmJpxG3",
        "outputId": "203bbafe-5b1d-4188-d53c-fc1dc81fde4b"
      },
      "id": "GQVXJjmJpxG3",
      "execution_count": 368,
      "outputs": [
        {
          "output_type": "stream",
          "name": "stdout",
          "text": [
            "Average income for 'Personal Auto' is: 34848.05\n"
          ]
        }
      ]
    },
    {
      "cell_type": "code",
      "source": [
        "#df[df[\"Policy Type\"] == \"Corporate Auto\"][\"Income\"]\n",
        "corp_auto = df[df[\"Policy Type\"] == \"Corporate Auto\"][\"Income\"]\n",
        "print(\"Average income for 'Corporate Auto' is:\", round(corp_auto.describe().mean(), 2))"
      ],
      "metadata": {
        "colab": {
          "base_uri": "https://localhost:8080/"
        },
        "id": "bYPvauitpxEc",
        "outputId": "9137a015-2733-415b-d3f2-9e6569a02347"
      },
      "id": "bYPvauitpxEc",
      "execution_count": 369,
      "outputs": [
        {
          "output_type": "stream",
          "name": "stdout",
          "text": [
            "Average income for 'Corporate Auto' is: 37327.15\n"
          ]
        }
      ]
    },
    {
      "cell_type": "code",
      "source": [
        "a = pers_auto.describe().mean()\n",
        "b = corp_auto.describe().mean()\n",
        "\n",
        "def average_income(a, b):\n",
        "  if a < b:\n",
        "      return \"Average income for 'Personal Auto' is lower than average income for 'Corporate Auto'\"\n",
        "\n",
        "result = average_income(a,b)\n",
        "print(result)"
      ],
      "metadata": {
        "colab": {
          "base_uri": "https://localhost:8080/"
        },
        "id": "7dhUHH7Zsb2C",
        "outputId": "4eddb90f-fc3d-4bb4-a719-67d8e9b2ab36"
      },
      "id": "7dhUHH7Zsb2C",
      "execution_count": 370,
      "outputs": [
        {
          "output_type": "stream",
          "name": "stdout",
          "text": [
            "Average income for 'Personal Auto' is lower than average income for 'Corporate Auto'\n"
          ]
        }
      ]
    },
    {
      "cell_type": "code",
      "source": [],
      "metadata": {
        "id": "WBGJpkiowBOE"
      },
      "id": "WBGJpkiowBOE",
      "execution_count": null,
      "outputs": []
    },
    {
      "cell_type": "markdown",
      "id": "80b16c27-f4a5-4727-a229-1f88671cf4e2",
      "metadata": {
        "id": "80b16c27-f4a5-4727-a229-1f88671cf4e2"
      },
      "source": [
        "### Bonus: Exercise 4\n"
      ]
    },
    {
      "cell_type": "markdown",
      "id": "ac584986-299b-475f-ac2e-928c16c3f512",
      "metadata": {
        "id": "ac584986-299b-475f-ac2e-928c16c3f512"
      },
      "source": [
        "Your goal is to identify customers with a high policy claim amount.\n",
        "\n",
        "Instructions:\n",
        "\n",
        "- Review again the statistics for total claim amount to gain an understanding of the data.\n",
        "- To identify potential areas for improving customer retention and profitability, we want to focus on customers with a high policy claim amount. Consider customers with a high policy claim amount to be those in the top 25% of the total claim amount. Create a pandas DataFrame object that contains information about customers with a policy claim amount greater than the 75th percentile.\n",
        "- Use DataFrame methods to calculate summary statistics about the high policy claim amount data."
      ]
    },
    {
      "cell_type": "markdown",
      "id": "4e3af5f1-6023-4b05-9c01-d05392daa650",
      "metadata": {
        "id": "4e3af5f1-6023-4b05-9c01-d05392daa650"
      },
      "source": [
        "*Note: When analyzing data, we often want to focus on certain groups of values to gain insights. Percentiles are a useful tool to help us define these groups. A percentile is a measure that tells us what percentage of values in a dataset are below a certain value. For example, the 75th percentile represents the value below which 75% of the data falls. Similarly, the 25th percentile represents the value below which 25% of the data falls. When we talk about the top 25%, we are referring to the values that fall above the 75th percentile, which represent the top quarter of the data. On the other hand, when we talk about the bottom 25%, we are referring to the values that fall below the 25th percentile, which represent the bottom quarter of the data. By focusing on these groups, we can identify patterns and trends that may be useful for making decisions and taking action.*\n",
        "\n",
        "*Hint: look for a method that gives you the percentile or quantile 0.75 and 0.25 for a Pandas Series.*"
      ]
    },
    {
      "cell_type": "markdown",
      "id": "2d234634-50bd-41e0-88f7-d5ba684455d1",
      "metadata": {
        "id": "2d234634-50bd-41e0-88f7-d5ba684455d1"
      },
      "source": [
        "*Hint 2: check `Boolean selection according to the values of a single column` in https://towardsdatascience.com/filtering-data-frames-in-pandas-b570b1f834b9*"
      ]
    },
    {
      "cell_type": "code",
      "execution_count": null,
      "id": "b731bca6-a760-4860-a27b-a33efa712ce0",
      "metadata": {
        "id": "b731bca6-a760-4860-a27b-a33efa712ce0"
      },
      "outputs": [],
      "source": [
        "# Your code here"
      ]
    }
  ],
  "metadata": {
    "kernelspec": {
      "display_name": "Python 3 (ipykernel)",
      "language": "python",
      "name": "python3"
    },
    "language_info": {
      "codemirror_mode": {
        "name": "ipython",
        "version": 3
      },
      "file_extension": ".py",
      "mimetype": "text/x-python",
      "name": "python",
      "nbconvert_exporter": "python",
      "pygments_lexer": "ipython3",
      "version": "3.9.13"
    },
    "colab": {
      "provenance": []
    }
  },
  "nbformat": 4,
  "nbformat_minor": 5
}